{
  "cells": [
    {
      "cell_type": "markdown",
      "metadata": {
        "id": "view-in-github",
        "colab_type": "text"
      },
      "source": [
        "<a href=\"https://colab.research.google.com/github/Sarthak174/Week1/blob/main/PythonQ4.ipynb\" target=\"_parent\"><img src=\"https://colab.research.google.com/assets/colab-badge.svg\" alt=\"Open In Colab\"/></a>"
      ]
    },
    {
      "cell_type": "code",
      "source": [
        "arr=[0,1,0,3,5,7,0]\n",
        "n=len(arr)\n",
        "pos=0\n",
        "for i in range(n):\n",
        "    if arr[i]!=0:\n",
        "      arr[pos]=arr[i]\n",
        "      pos+=1\n",
        "for i in range(pos,n):\n",
        "    arr[i]=0\n",
        "print(arr)"
      ],
      "metadata": {
        "id": "vvZ5V_28qNv6",
        "outputId": "dc38c184-97b0-4ee5-baf4-b586326995db",
        "colab": {
          "base_uri": "https://localhost:8080/"
        }
      },
      "execution_count": 3,
      "outputs": [
        {
          "output_type": "stream",
          "name": "stdout",
          "text": [
            "[1, 3, 5, 7, 0, 0, 0]\n"
          ]
        }
      ]
    }
  ],
  "metadata": {
    "colab": {
      "toc_visible": true,
      "provenance": [],
      "include_colab_link": true
    },
    "kernelspec": {
      "display_name": "Python 3",
      "name": "python3"
    }
  },
  "nbformat": 4,
  "nbformat_minor": 0
}