{
  "cells": [
    {
      "cell_type": "markdown",
      "metadata": {
        "id": "view-in-github",
        "colab_type": "text"
      },
      "source": [
        "<a href=\"https://colab.research.google.com/github/Sarthak174/Week1/blob/main/PythonQ9.ipynb\" target=\"_parent\"><img src=\"https://colab.research.google.com/assets/colab-badge.svg\" alt=\"Open In Colab\"/></a>"
      ]
    },
    {
      "cell_type": "code",
      "source": [
        "arr = [1, 2, 2, 3, 1, 4, 2]\n",
        "freq={}\n",
        "for i in arr:\n",
        "    if i in freq:\n",
        "        freq[i]+=1\n",
        "    else:\n",
        "        freq[i]=1\n",
        "print(freq)"
      ],
      "metadata": {
        "id": "vvZ5V_28qNv6",
        "outputId": "b7599950-d914-4174-e800-c59b74f1483e",
        "colab": {
          "base_uri": "https://localhost:8080/"
        }
      },
      "execution_count": 8,
      "outputs": [
        {
          "output_type": "stream",
          "name": "stdout",
          "text": [
            "{1: 2, 2: 3, 3: 1, 4: 1}\n"
          ]
        }
      ]
    }
  ],
  "metadata": {
    "colab": {
      "toc_visible": true,
      "provenance": [],
      "include_colab_link": true
    },
    "kernelspec": {
      "display_name": "Python 3",
      "name": "python3"
    }
  },
  "nbformat": 4,
  "nbformat_minor": 0
}